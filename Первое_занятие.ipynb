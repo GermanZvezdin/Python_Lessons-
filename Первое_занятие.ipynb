{
  "nbformat": 4,
  "nbformat_minor": 0,
  "metadata": {
    "colab": {
      "name": "Первое занятие ",
      "provenance": [],
      "collapsed_sections": [],
      "toc_visible": true,
      "include_colab_link": true
    },
    "kernelspec": {
      "display_name": "Python 3",
      "name": "python3"
    }
  },
  "cells": [
    {
      "cell_type": "markdown",
      "metadata": {
        "id": "view-in-github",
        "colab_type": "text"
      },
      "source": [
        "<a href=\"https://colab.research.google.com/github/GermanZvezdin/Python_Lessons-/blob/master/%D0%9F%D0%B5%D1%80%D0%B2%D0%BE%D0%B5_%D0%B7%D0%B0%D0%BD%D1%8F%D1%82%D0%B8%D0%B5.ipynb\" target=\"_parent\"><img src=\"https://colab.research.google.com/assets/colab-badge.svg\" alt=\"Open In Colab\"/></a>"
      ]
    },
    {
      "cell_type": "markdown",
      "metadata": {
        "id": "ZQUDkFUOtHqn"
      },
      "source": [
        "# Привет Python!"
      ]
    },
    {
      "cell_type": "code",
      "metadata": {
        "id": "I9Jn755btGoD",
        "outputId": "82a10ad7-691a-4d16-f652-9bd9ffd09c6b",
        "colab": {
          "base_uri": "https://localhost:8080/",
          "height": 34
        }
      },
      "source": [
        "print(\"Привет Python!\")"
      ],
      "execution_count": null,
      "outputs": [
        {
          "output_type": "stream",
          "text": [
            "Привет Python!\n"
          ],
          "name": "stdout"
        }
      ]
    },
    {
      "cell_type": "markdown",
      "metadata": {
        "id": "0BwVoQictWkv"
      },
      "source": [
        "# Привет Друг!"
      ]
    },
    {
      "cell_type": "markdown",
      "metadata": {
        "id": "VzvlbxbFZD1M"
      },
      "source": [
        "# Форматирование\n"
      ]
    },
    {
      "cell_type": "code",
      "metadata": {
        "id": "LTHohabntaA9",
        "outputId": "04256ae7-1811-4edf-bb70-9e63e154dfb0",
        "colab": {
          "base_uri": "https://localhost:8080/",
          "height": 51
        }
      },
      "source": [
        "friend_name = input()\n",
        "print(\"Привет {}\".format(friend_name))"
      ],
      "execution_count": null,
      "outputs": [
        {
          "output_type": "stream",
          "text": [
            "Леша\n",
            "Привет Леша\n"
          ],
          "name": "stdout"
        }
      ]
    },
    {
      "cell_type": "code",
      "metadata": {
        "id": "ipAvLKA5aPW7",
        "outputId": "4966a611-f13d-41d5-8098-b47b8219c06e",
        "colab": {
          "base_uri": "https://localhost:8080/",
          "height": 51
        }
      },
      "source": [
        "friend_name = input()\n",
        "print(f\"Привет {friend_name}\")"
      ],
      "execution_count": null,
      "outputs": [
        {
          "output_type": "stream",
          "text": [
            "Леша\n",
            "Привет Леша\n"
          ],
          "name": "stdout"
        }
      ]
    },
    {
      "cell_type": "markdown",
      "metadata": {
        "id": "m6ZrasK0toyc"
      },
      "source": [
        "# $А+B$"
      ]
    },
    {
      "cell_type": "code",
      "metadata": {
        "id": "cdL8ExxdtvDO",
        "outputId": "08088778-9ddb-46eb-9c63-ab751e9bcd3a",
        "colab": {
          "base_uri": "https://localhost:8080/",
          "height": 34
        }
      },
      "source": [
        "a = 2\n",
        "b = 3\n",
        "print(a + b)"
      ],
      "execution_count": null,
      "outputs": [
        {
          "output_type": "stream",
          "text": [
            "5\n"
          ],
          "name": "stdout"
        }
      ]
    },
    {
      "cell_type": "markdown",
      "metadata": {
        "id": "ihRDYMONt4AB"
      },
      "source": [
        "# Сложный $ A+B$"
      ]
    },
    {
      "cell_type": "code",
      "metadata": {
        "id": "GyPO2DeBt3rV",
        "outputId": "dd30457f-1a2e-4876-cd1b-08b40635059d",
        "colab": {
          "base_uri": "https://localhost:8080/",
          "height": 68
        }
      },
      "source": [
        "a = int(input())\n",
        "b = int(input())\n",
        "print(\"{} + {} = {}\".format(a, b, a + b))"
      ],
      "execution_count": null,
      "outputs": [
        {
          "output_type": "stream",
          "text": [
            "2\n",
            "3\n",
            "2 + 3 = 5\n"
          ],
          "name": "stdout"
        }
      ]
    },
    {
      "cell_type": "markdown",
      "metadata": {
        "id": "i4zc_94TuOha"
      },
      "source": [
        "# $A  B$"
      ]
    },
    {
      "cell_type": "code",
      "metadata": {
        "id": "efiuKRBEuaQp",
        "outputId": "c142a3ec-cf9f-44cf-ca5f-2c42701489d5",
        "colab": {
          "base_uri": "https://localhost:8080/",
          "height": 68
        }
      },
      "source": [
        "a = int(input())\n",
        "b = int(input())\n",
        "print(\"{} * {} = {}\".format(a, b, a * b))"
      ],
      "execution_count": null,
      "outputs": [
        {
          "output_type": "stream",
          "text": [
            "2\n",
            "3\n",
            "2 * 3 = 6\n"
          ],
          "name": "stdout"
        }
      ]
    },
    {
      "cell_type": "markdown",
      "metadata": {
        "id": "uRPQNdtAuivK"
      },
      "source": [
        "# $a^b$"
      ]
    },
    {
      "cell_type": "code",
      "metadata": {
        "id": "rBx6qmtTulA7",
        "outputId": "e4fd2d9c-2238-46b6-ef54-51e156bef4ec",
        "colab": {
          "base_uri": "https://localhost:8080/",
          "height": 68
        }
      },
      "source": [
        "a = int(input())\n",
        "b = int(input())\n",
        "print(\"{}^{} = {}\".format(a, b, a ** b))"
      ],
      "execution_count": null,
      "outputs": [
        {
          "output_type": "stream",
          "text": [
            "2\n",
            "3\n",
            "2^3 = 8\n"
          ],
          "name": "stdout"
        }
      ]
    },
    {
      "cell_type": "markdown",
      "metadata": {
        "id": "w8LUvd9NuvL_"
      },
      "source": [
        "# **$\\frac{A}{B}$**"
      ]
    },
    {
      "cell_type": "code",
      "metadata": {
        "id": "byEbVuhuuyr8"
      },
      "source": [
        "a = int(input())\n",
        "b = int(input())\n",
        "print(\"{} / {} = {}\".format(a, b, a / b))"
      ],
      "execution_count": null,
      "outputs": []
    },
    {
      "cell_type": "markdown",
      "metadata": {
        "id": "_vsVUuHhWlH1"
      },
      "source": [
        "# Условные операторы"
      ]
    },
    {
      "cell_type": "markdown",
      "metadata": {
        "id": "K7x2mwx4XLlB"
      },
      "source": [
        "# Кто больше ?"
      ]
    },
    {
      "cell_type": "code",
      "metadata": {
        "id": "k93gBbEzXPNU",
        "outputId": "ee697c03-68e0-48b4-ffa9-304ed1fded6b",
        "colab": {
          "base_uri": "https://localhost:8080/",
          "height": 68
        }
      },
      "source": [
        "a = int(input())\n",
        "b = int(input())\n",
        "if a > b:\n",
        "  print(\"A > B\")\n",
        "elif b > a: #elif = else if \n",
        "  print(\"B > A\")\n",
        "else:\n",
        "  print(\"A = B\")"
      ],
      "execution_count": null,
      "outputs": [
        {
          "output_type": "stream",
          "text": [
            "2\n",
            "2\n",
            "A = B\n"
          ],
          "name": "stdout"
        }
      ]
    },
    {
      "cell_type": "markdown",
      "metadata": {
        "id": "UY8XrTRuYHd-"
      },
      "source": [
        "# Циклы массивы и ветвления "
      ]
    },
    {
      "cell_type": "markdown",
      "metadata": {
        "id": "wbaYOzngiU_F"
      },
      "source": [
        "# Кто кратен 3"
      ]
    },
    {
      "cell_type": "code",
      "metadata": {
        "id": "8A8-2Yrdfmn7",
        "outputId": "376ce4d8-ef7b-4e48-8616-48a677c4217c",
        "colab": {
          "base_uri": "https://localhost:8080/",
          "height": 85
        }
      },
      "source": [
        " a = [_ for _ in range(1,100,10)] # Объявление массива на 10 элементов от 1 до 99 с шагом 10 (от,до - 1,шаг)\n",
        " for i in range(10):\n",
        "   if a[i] % 3 == 0:\n",
        "     print(f\"Num {i} div by 3 = 0\")\n",
        " print(a)"
      ],
      "execution_count": 46,
      "outputs": [
        {
          "output_type": "stream",
          "text": [
            "Num 2 div by 3 = 0\n",
            "Num 5 div by 3 = 0\n",
            "Num 8 div by 3 = 0\n",
            "[1, 11, 21, 31, 41, 51, 61, 71, 81, 91]\n"
          ],
          "name": "stdout"
        }
      ]
    },
    {
      "cell_type": "markdown",
      "metadata": {
        "id": "y5UUFRc5iZ-l"
      },
      "source": [
        "# Ввод массива с клавиатуры"
      ]
    },
    {
      "cell_type": "code",
      "metadata": {
        "id": "vKkJw4laidu-",
        "outputId": "9eb220e2-9578-411a-e2d6-1d7a0cd96991",
        "colab": {
          "base_uri": "https://localhost:8080/",
          "height": 51
        }
      },
      "source": [
        "a = [int(_) for _ in input().split()]\n",
        "print(a)"
      ],
      "execution_count": 52,
      "outputs": [
        {
          "output_type": "stream",
          "text": [
            "1 2 3 4\n",
            "[1, 2, 3, 4]\n"
          ],
          "name": "stdout"
        }
      ]
    },
    {
      "cell_type": "markdown",
      "metadata": {
        "id": "xkCpyX_IjuPn"
      },
      "source": [
        "# Перевод в двоичную систему исчисления"
      ]
    },
    {
      "cell_type": "code",
      "metadata": {
        "id": "WODXNOOoj0tQ",
        "outputId": "f51a64ea-8aee-4fa3-90d0-2ad005531deb",
        "colab": {
          "base_uri": "https://localhost:8080/",
          "height": 51
        }
      },
      "source": [
        "x = int(input())\n",
        "b = []\n",
        "while x > 0:\n",
        "  if x % 2 == 0:\n",
        "    b.append('0')\n",
        "  else:\n",
        "    b.append('1')\n",
        "  x = int(x / 2)\n",
        "b.reverse()\n",
        "print(*b, sep='')\n"
      ],
      "execution_count": 72,
      "outputs": [
        {
          "output_type": "stream",
          "text": [
            "3\n",
            "11\n"
          ],
          "name": "stdout"
        }
      ]
    }
  ]
}